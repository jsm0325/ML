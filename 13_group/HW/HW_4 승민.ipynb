{
  "nbformat": 4,
  "nbformat_minor": 0,
  "metadata": {
    "colab": {
      "provenance": [],
      "gpuType": "T4"
    },
    "kernelspec": {
      "name": "python3",
      "display_name": "Python 3"
    },
    "language_info": {
      "name": "python"
    },
    "accelerator": "GPU"
  },
  "cells": [
    {
      "cell_type": "code",
      "execution_count": 2,
      "metadata": {
        "id": "sC4zWPsVQLlU"
      },
      "outputs": [],
      "source": [
        "# 파이썬 ≥3.5 필수\n",
        "import sys\n",
        "assert sys.version_info >= (3, 5)\n",
        "\n",
        "# 사이킷런 ≥0.20 필수\n",
        "import sklearn\n",
        "assert sklearn.__version__ >= \"0.20\"\n",
        "\n",
        "# 코랩에서 실행되는 노트북인가요?\n",
        "IS_COLAB = \"google.colab\" in sys.modules\n",
        "\n",
        "# 텐서플로 ≥2.0 필수\n",
        "import tensorflow as tf\n",
        "from tensorflow import keras\n",
        "assert tf.__version__ >= \"2.0\"\n",
        "\n",
        "if not tf.config.list_physical_devices('GPU'):\n",
        "    print(\"감지된 GPU가 없습니다. GPU가 없으면 CNN은 매우 느릴 수 있습니다.\")\n",
        "    if IS_COLAB:\n",
        "        print(\"런타임 > 런타임 유형 변경 메뉴를 선택하고 하드웨어 가속기로 GPU를 고르세요.\")\n",
        "\n",
        "# 공통 모듈 임포트\n",
        "import numpy as np\n",
        "import os\n",
        "\n",
        "# 노트북 실행 결과를 동일하게 유지하기 위해\n",
        "np.random.seed(42)\n",
        "tf.random.set_seed(42)\n",
        "\n",
        "# 깔끔한 그래프 출력을 위해\n",
        "%matplotlib inline\n",
        "import matplotlib as mpl\n",
        "import matplotlib.pyplot as plt\n",
        "mpl.rc('axes', labelsize=14)\n",
        "mpl.rc('xtick', labelsize=12)\n",
        "mpl.rc('ytick', labelsize=12)\n",
        "\n",
        "# 그림을 저장할 위치\n",
        "PROJECT_ROOT_DIR = \".\"\n",
        "CHAPTER_ID = \"cnn\"\n",
        "IMAGES_PATH = os.path.join(PROJECT_ROOT_DIR, \"images\", CHAPTER_ID)\n",
        "os.makedirs(IMAGES_PATH, exist_ok=True)\n",
        "\n",
        "def save_fig(fig_id, tight_layout=True, fig_extension=\"png\", resolution=300):\n",
        "    path = os.path.join(IMAGES_PATH, fig_id + \".\" + fig_extension)\n",
        "    print(\"그림 저장\", fig_id)\n",
        "    if tight_layout:\n",
        "        plt.tight_layout()\n",
        "    plt.savefig(path, format=fig_extension, dpi=resolution)"
      ]
    },
    {
      "cell_type": "code",
      "source": [
        "(X_train_full, y_train_full), (X_test, y_test) = keras.datasets.fashion_mnist.load_data()\n",
        "X_train, X_valid = X_train_full[:-5000], X_train_full[-5000:]\n",
        "y_train, y_valid = y_train_full[:-5000], y_train_full[-5000:]\n",
        "\n",
        "X_mean = X_train.mean(axis=0, keepdims=True)\n",
        "X_std = X_train.std(axis=0, keepdims=True) + 1e-7\n",
        "X_train = (X_train - X_mean) / X_std\n",
        "X_valid = (X_valid - X_mean) / X_std\n",
        "X_test = (X_test - X_mean) / X_std\n",
        "\n",
        "X_train = X_train[..., np.newaxis]\n",
        "X_valid = X_valid[..., np.newaxis]\n",
        "X_test = X_test[..., np.newaxis]"
      ],
      "metadata": {
        "colab": {
          "base_uri": "https://localhost:8080/"
        },
        "id": "cy69cF10QadQ",
        "outputId": "d611f3e6-a69c-477c-c4b1-1a72386962b6"
      },
      "execution_count": 3,
      "outputs": [
        {
          "output_type": "stream",
          "name": "stdout",
          "text": [
            "Downloading data from https://storage.googleapis.com/tensorflow/tf-keras-datasets/train-labels-idx1-ubyte.gz\n",
            "29515/29515 [==============================] - 0s 0us/step\n",
            "Downloading data from https://storage.googleapis.com/tensorflow/tf-keras-datasets/train-images-idx3-ubyte.gz\n",
            "26421880/26421880 [==============================] - 0s 0us/step\n",
            "Downloading data from https://storage.googleapis.com/tensorflow/tf-keras-datasets/t10k-labels-idx1-ubyte.gz\n",
            "5148/5148 [==============================] - 0s 0us/step\n",
            "Downloading data from https://storage.googleapis.com/tensorflow/tf-keras-datasets/t10k-images-idx3-ubyte.gz\n",
            "4422102/4422102 [==============================] - 0s 0us/step\n"
          ]
        }
      ]
    },
    {
      "cell_type": "code",
      "source": [
        "from functools import partial\n",
        "\n",
        "from keras.regularizers import l2\n",
        "\n",
        "DefaultConv2D = partial(keras.layers.Conv2D,\n",
        "                        kernel_size=3, activation='relu', padding=\"SAME\")\n",
        "\n",
        "model = keras.models.Sequential([\n",
        "    keras.layers.BatchNormalization(),# 데이터 정규화 추가\n",
        "    DefaultConv2D(filters=64, kernel_size=7, input_shape=[28, 28, 1]),\n",
        "    keras.layers.MaxPooling2D(pool_size=2),\n",
        "    DefaultConv2D(filters=128),\n",
        "    DefaultConv2D(filters=128),\n",
        "    keras.layers.MaxPooling2D(pool_size=2),\n",
        "    DefaultConv2D(filters=256),\n",
        "    DefaultConv2D(filters=256),\n",
        "    keras.layers.MaxPooling2D(pool_size=2),\n",
        "    keras.layers.GlobalAveragePooling2D(), # flatten 대신에 전역 평균 풀링층 사용\n",
        "    keras.layers.Dense(units=128, activation='relu', kernel_regularizer=l2(0.01)), # 과적합 줄이기 위해 규제 추가\n",
        "    keras.layers.Dropout(0.5),\n",
        "    keras.layers.Dense(units=64, activation='relu', kernel_regularizer=l2(0.01)), # 과적합 줄이기 위해 규제 추가\n",
        "    keras.layers.Dropout(0.5),\n",
        "    keras.layers.Dense(units=10, activation='softmax'),\n",
        "])\n"
      ],
      "metadata": {
        "id": "ZbHuiJlDRSvH"
      },
      "execution_count": 15,
      "outputs": []
    },
    {
      "cell_type": "code",
      "source": [
        "model.compile(loss=\"sparse_categorical_crossentropy\", optimizer=\"nadam\", metrics=[\"accuracy\"])\n",
        "history = model.fit(X_train, y_train, epochs=20, validation_data=(X_valid, y_valid))\n",
        "score = model.evaluate(X_test, y_test)\n",
        "X_new = X_test[:10]\n",
        "y_pred = model.predict(X_new)"
      ],
      "metadata": {
        "colab": {
          "base_uri": "https://localhost:8080/"
        },
        "id": "pxTKO2KNUnxG",
        "outputId": "e150fcc0-14fc-403f-9b00-c7424183f7d0"
      },
      "execution_count": 16,
      "outputs": [
        {
          "output_type": "stream",
          "name": "stdout",
          "text": [
            "Epoch 1/20\n",
            "1719/1719 [==============================] - 21s 10ms/step - loss: 1.0174 - accuracy: 0.7124 - val_loss: 0.4984 - val_accuracy: 0.8592\n",
            "Epoch 2/20\n",
            "1719/1719 [==============================] - 17s 10ms/step - loss: 0.5266 - accuracy: 0.8528 - val_loss: 0.4171 - val_accuracy: 0.8762\n",
            "Epoch 3/20\n",
            "1719/1719 [==============================] - 17s 10ms/step - loss: 0.4481 - accuracy: 0.8778 - val_loss: 0.3748 - val_accuracy: 0.8916\n",
            "Epoch 4/20\n",
            "1719/1719 [==============================] - 17s 10ms/step - loss: 0.4074 - accuracy: 0.8906 - val_loss: 0.3458 - val_accuracy: 0.9002\n",
            "Epoch 5/20\n",
            "1719/1719 [==============================] - 18s 10ms/step - loss: 0.3711 - accuracy: 0.9023 - val_loss: 0.3376 - val_accuracy: 0.9052\n",
            "Epoch 6/20\n",
            "1719/1719 [==============================] - 17s 10ms/step - loss: 0.3457 - accuracy: 0.9084 - val_loss: 0.3376 - val_accuracy: 0.9068\n",
            "Epoch 7/20\n",
            "1719/1719 [==============================] - 17s 10ms/step - loss: 0.3232 - accuracy: 0.9175 - val_loss: 0.3302 - val_accuracy: 0.9074\n",
            "Epoch 8/20\n",
            "1719/1719 [==============================] - 17s 10ms/step - loss: 0.3067 - accuracy: 0.9221 - val_loss: 0.3279 - val_accuracy: 0.9104\n",
            "Epoch 9/20\n",
            "1719/1719 [==============================] - 17s 10ms/step - loss: 0.2918 - accuracy: 0.9286 - val_loss: 0.3245 - val_accuracy: 0.9166\n",
            "Epoch 10/20\n",
            "1719/1719 [==============================] - 17s 10ms/step - loss: 0.2713 - accuracy: 0.9345 - val_loss: 0.3135 - val_accuracy: 0.9188\n",
            "Epoch 11/20\n",
            "1719/1719 [==============================] - 17s 10ms/step - loss: 0.2540 - accuracy: 0.9402 - val_loss: 0.3467 - val_accuracy: 0.9186\n",
            "Epoch 12/20\n",
            "1719/1719 [==============================] - 17s 10ms/step - loss: 0.2406 - accuracy: 0.9453 - val_loss: 0.3334 - val_accuracy: 0.9198\n",
            "Epoch 13/20\n",
            "1719/1719 [==============================] - 17s 10ms/step - loss: 0.2326 - accuracy: 0.9478 - val_loss: 0.3481 - val_accuracy: 0.9198\n",
            "Epoch 14/20\n",
            "1719/1719 [==============================] - 17s 10ms/step - loss: 0.2137 - accuracy: 0.9536 - val_loss: 0.3513 - val_accuracy: 0.9218\n",
            "Epoch 15/20\n",
            "1719/1719 [==============================] - 17s 10ms/step - loss: 0.2062 - accuracy: 0.9560 - val_loss: 0.3634 - val_accuracy: 0.9198\n",
            "Epoch 16/20\n",
            "1719/1719 [==============================] - 17s 10ms/step - loss: 0.1919 - accuracy: 0.9609 - val_loss: 0.3584 - val_accuracy: 0.9202\n",
            "Epoch 17/20\n",
            "1719/1719 [==============================] - 17s 10ms/step - loss: 0.1891 - accuracy: 0.9627 - val_loss: 0.3973 - val_accuracy: 0.9212\n",
            "Epoch 18/20\n",
            "1719/1719 [==============================] - 17s 10ms/step - loss: 0.1899 - accuracy: 0.9626 - val_loss: 0.4058 - val_accuracy: 0.9168\n",
            "Epoch 19/20\n",
            "1719/1719 [==============================] - 17s 10ms/step - loss: 0.1733 - accuracy: 0.9673 - val_loss: 0.3720 - val_accuracy: 0.9214\n",
            "Epoch 20/20\n",
            "1719/1719 [==============================] - 17s 10ms/step - loss: 0.1707 - accuracy: 0.9691 - val_loss: 0.4109 - val_accuracy: 0.9152\n",
            "313/313 [==============================] - 2s 5ms/step - loss: 0.4121 - accuracy: 0.9149\n",
            "1/1 [==============================] - 0s 161ms/step\n"
          ]
        }
      ]
    },
    {
      "cell_type": "code",
      "source": [
        "model.summary()"
      ],
      "metadata": {
        "colab": {
          "base_uri": "https://localhost:8080/"
        },
        "id": "2wTURNumSvcX",
        "outputId": "63c4c3b6-7759-4fa4-bc33-b5332c2583ba"
      },
      "execution_count": 17,
      "outputs": [
        {
          "output_type": "stream",
          "name": "stdout",
          "text": [
            "Model: \"sequential_3\"\n",
            "_________________________________________________________________\n",
            " Layer (type)                Output Shape              Param #   \n",
            "=================================================================\n",
            " batch_normalization_3 (Bat  (None, 28, 28, 1)         4         \n",
            " chNormalization)                                                \n",
            "                                                                 \n",
            " conv2d_15 (Conv2D)          (None, 28, 28, 64)        3200      \n",
            "                                                                 \n",
            " max_pooling2d_9 (MaxPoolin  (None, 14, 14, 64)        0         \n",
            " g2D)                                                            \n",
            "                                                                 \n",
            " conv2d_16 (Conv2D)          (None, 14, 14, 128)       73856     \n",
            "                                                                 \n",
            " conv2d_17 (Conv2D)          (None, 14, 14, 128)       147584    \n",
            "                                                                 \n",
            " max_pooling2d_10 (MaxPooli  (None, 7, 7, 128)         0         \n",
            " ng2D)                                                           \n",
            "                                                                 \n",
            " conv2d_18 (Conv2D)          (None, 7, 7, 256)         295168    \n",
            "                                                                 \n",
            " conv2d_19 (Conv2D)          (None, 7, 7, 256)         590080    \n",
            "                                                                 \n",
            " max_pooling2d_11 (MaxPooli  (None, 3, 3, 256)         0         \n",
            " ng2D)                                                           \n",
            "                                                                 \n",
            " global_average_pooling2d_3  (None, 256)               0         \n",
            "  (GlobalAveragePooling2D)                                       \n",
            "                                                                 \n",
            " dense_9 (Dense)             (None, 128)               32896     \n",
            "                                                                 \n",
            " dropout_7 (Dropout)         (None, 128)               0         \n",
            "                                                                 \n",
            " dense_10 (Dense)            (None, 64)                8256      \n",
            "                                                                 \n",
            " dropout_8 (Dropout)         (None, 64)                0         \n",
            "                                                                 \n",
            " dense_11 (Dense)            (None, 10)                650       \n",
            "                                                                 \n",
            "=================================================================\n",
            "Total params: 1151694 (4.39 MB)\n",
            "Trainable params: 1151692 (4.39 MB)\n",
            "Non-trainable params: 2 (8.00 Byte)\n",
            "_________________________________________________________________\n"
          ]
        }
      ]
    },
    {
      "cell_type": "code",
      "source": [
        "model.evaluate(X_test, y_test)\n",
        "print(\"Training Loss:\", history.history['loss'][-1])\n",
        "print(\"Training Accuracy:\", history.history['accuracy'][-1])\n",
        "print(\"Validation Loss:\", history.history['val_loss'][-1])\n",
        "print(\"Validation Accuracy:\", history.history['val_accuracy'][-1])"
      ],
      "metadata": {
        "colab": {
          "base_uri": "https://localhost:8080/"
        },
        "id": "Vcz6-yf_TDrJ",
        "outputId": "dc3e69c7-8f4a-485b-80b9-a205bc483576"
      },
      "execution_count": 18,
      "outputs": [
        {
          "output_type": "stream",
          "name": "stdout",
          "text": [
            "313/313 [==============================] - 1s 4ms/step - loss: 0.4121 - accuracy: 0.9149\n",
            "Training Loss: 0.1707400530576706\n",
            "Training Accuracy: 0.969072699546814\n",
            "Validation Loss: 0.4109172224998474\n",
            "Validation Accuracy: 0.9151999950408936\n"
          ]
        }
      ]
    },
    {
      "cell_type": "code",
      "source": [
        "import pandas as pd\n",
        "pd.DataFrame(history.history).plot(figsize=(8,5))\n",
        "plt.grid(True)\n",
        "plt.gca().set_ylim(0,1)\n",
        "save_fig(\"keras_learning_curves_plot\")\n",
        "plt.show()"
      ],
      "metadata": {
        "colab": {
          "base_uri": "https://localhost:8080/",
          "height": 526
        },
        "id": "0tysEArv6yZk",
        "outputId": "609a9ff8-4151-47b4-a663-1d44a6a4ba30"
      },
      "execution_count": 19,
      "outputs": [
        {
          "output_type": "stream",
          "name": "stdout",
          "text": [
            "그림 저장 keras_learning_curves_plot\n"
          ]
        },
        {
          "output_type": "display_data",
          "data": {
            "text/plain": [
              "<Figure size 800x500 with 1 Axes>"
            ],
            "image/png": "[encoded data removed]"
          },
          "metadata": {}
        }
      ]
    }
  ]
}